{
 "cells": [
  {
   "cell_type": "code",
   "execution_count": 4,
   "metadata": {},
   "outputs": [
    {
     "data": {
      "text/html": [
       "<div><div style = \"float: left;\"><span>DataFrameRow (19 columns)</span></div><div style = \"clear: both;\"></div></div><div class = \"data-frame\" style = \"overflow-x: scroll;\"><table class = \"data-frame\" style = \"margin-bottom: 6px;\"><thead><tr class = \"header\"><th class = \"rowLabel\" style = \"font-weight: bold; text-align: right;\">Row</th><th style = \"text-align: left;\">General_Health</th><th style = \"text-align: left;\">Checkup</th><th style = \"text-align: left;\">Exercise</th><th style = \"text-align: left;\">Heart_Disease</th><th style = \"text-align: left;\">Skin_Cancer</th><th style = \"text-align: left;\">Other_Cancer</th><th style = \"text-align: left;\">Depression</th><th style = \"text-align: left;\">Diabetes</th><th style = \"text-align: left;\">Arthritis</th><th style = \"text-align: left;\">Sex</th><th style = \"text-align: left;\">Age_Category</th><th style = \"text-align: left;\">Height_(cm)</th><th style = \"text-align: left;\">Weight_(kg)</th><th style = \"text-align: left;\">BMI</th><th style = \"text-align: left;\">Smoking_History</th><th style = \"text-align: left;\">Alcohol_Consumption</th><th style = \"text-align: left;\">Fruit_Consumption</th><th style = \"text-align: left;\">Green_Vegetables_Consumption</th><th style = \"text-align: left;\">FriedPotato_Consumption</th></tr><tr class = \"subheader headerLastRow\"><th class = \"rowLabel\" style = \"font-weight: bold; text-align: right;\"></th><th title = \"String15\" style = \"text-align: left;\">String15</th><th title = \"String31\" style = \"text-align: left;\">String31</th><th title = \"String3\" style = \"text-align: left;\">String3</th><th title = \"String3\" style = \"text-align: left;\">String3</th><th title = \"String3\" style = \"text-align: left;\">String3</th><th title = \"String3\" style = \"text-align: left;\">String3</th><th title = \"String3\" style = \"text-align: left;\">String3</th><th title = \"String\" style = \"text-align: left;\">String</th><th title = \"String3\" style = \"text-align: left;\">String3</th><th title = \"String7\" style = \"text-align: left;\">String7</th><th title = \"String7\" style = \"text-align: left;\">String7</th><th title = \"Float64\" style = \"text-align: left;\">Float64</th><th title = \"Float64\" style = \"text-align: left;\">Float64</th><th title = \"Float64\" style = \"text-align: left;\">Float64</th><th title = \"String3\" style = \"text-align: left;\">String3</th><th title = \"Float64\" style = \"text-align: left;\">Float64</th><th title = \"Float64\" style = \"text-align: left;\">Float64</th><th title = \"Float64\" style = \"text-align: left;\">Float64</th><th title = \"Float64\" style = \"text-align: left;\">Float64</th></tr></thead><tbody><tr><td class = \"rowLabel\" style = \"font-weight: bold; text-align: right;\">1</td><td style = \"text-align: left;\">Poor</td><td style = \"text-align: left;\">Within the past 2 years</td><td style = \"text-align: left;\">No</td><td style = \"text-align: left;\">No</td><td style = \"text-align: left;\">No</td><td style = \"text-align: left;\">No</td><td style = \"text-align: left;\">No</td><td style = \"text-align: left;\">No</td><td style = \"text-align: left;\">Yes</td><td style = \"text-align: left;\">Female</td><td style = \"text-align: left;\">70-74</td><td style = \"text-align: right;\">150.0</td><td style = \"text-align: right;\">32.66</td><td style = \"text-align: right;\">14.54</td><td style = \"text-align: left;\">Yes</td><td style = \"text-align: right;\">0.0</td><td style = \"text-align: right;\">30.0</td><td style = \"text-align: right;\">16.0</td><td style = \"text-align: right;\">12.0</td></tr></tbody></table></div>"
      ],
      "text/latex": [
       "\\begin{tabular}{r|ccccccc}\n",
       "\t& General\\_Health & Checkup & Exercise & Heart\\_Disease & Skin\\_Cancer & Other\\_Cancer & \\\\\n",
       "\t\\hline\n",
       "\t& String15 & String31 & String3 & String3 & String3 & String3 & \\\\\n",
       "\t\\hline\n",
       "\t1 & Poor & Within the past 2 years & No & No & No & No & $\\dots$ \\\\\n",
       "\\end{tabular}\n"
      ],
      "text/plain": [
       "\u001b[1mDataFrameRow\u001b[0m\n",
       "\u001b[1m Row \u001b[0m│\u001b[1m General_Health \u001b[0m\u001b[1m Checkup                 \u001b[0m\u001b[1m Exercise \u001b[0m\u001b[1m Heart_Disease \u001b[0m\u001b[1m Skin_\u001b[0m ⋯\n",
       "     │\u001b[90m String15       \u001b[0m\u001b[90m String31                \u001b[0m\u001b[90m String3  \u001b[0m\u001b[90m String3       \u001b[0m\u001b[90m Strin\u001b[0m ⋯\n",
       "─────┼──────────────────────────────────────────────────────────────────────────\n",
       "   1 │ Poor            Within the past 2 years  No        No             No    ⋯\n",
       "\u001b[36m                                                              15 columns omitted\u001b[0m"
      ]
     },
     "metadata": {},
     "output_type": "display_data"
    }
   ],
   "source": [
    "using DataFrames,CSV,TypedTables,Plots,GLM\n",
    "cvdp=DataFrame(CSV.File(\"raw_data/CVD_cleaned.csv\"))\n",
    "first(cvdp)"
   ]
  },
  {
   "cell_type": "code",
   "execution_count": 6,
   "metadata": {},
   "outputs": [
    {
     "ename": "ArgumentError",
     "evalue": "ArgumentError: column name :Height_ not found in the data frame",
     "output_type": "error",
     "traceback": [
      "ArgumentError: column name :Height_ not found in the data frame\n",
      "\n",
      "Stacktrace:\n",
      " [1] lookupname\n",
      "   @ ~/.julia/packages/DataFrames/58MUJ/src/other/index.jl:413 [inlined]\n",
      " [2] getindex\n",
      "   @ ~/.julia/packages/DataFrames/58MUJ/src/other/index.jl:422 [inlined]\n",
      " [3] getindex(df::DataFrame, #unused#::typeof(!), col_ind::Symbol)\n",
      "   @ DataFrames ~/.julia/packages/DataFrames/58MUJ/src/dataframe/dataframe.jl:557\n",
      " [4] getproperty(df::DataFrame, col_ind::Symbol)\n",
      "   @ DataFrames ~/.julia/packages/DataFrames/58MUJ/src/abstractdataframe/abstractdataframe.jl:431\n",
      " [5] top-level scope\n",
      "   @ ~/vscode/Cardiovascular-Diseases-Risk-Prediction-Dataset-Analysis-and-Prediction/analysis.ipynb:1"
     ]
    }
   ],
   "source": [
    "cvdp."
   ]
  },
  {
   "cell_type": "code",
   "execution_count": null,
   "metadata": {},
   "outputs": [],
   "source": []
  }
 ],
 "metadata": {
  "kernelspec": {
   "display_name": "Julia 1.9.2",
   "language": "julia",
   "name": "julia-1.9"
  },
  "language_info": {
   "file_extension": ".jl",
   "mimetype": "application/julia",
   "name": "julia",
   "version": "1.9.2"
  },
  "orig_nbformat": 4
 },
 "nbformat": 4,
 "nbformat_minor": 2
}
